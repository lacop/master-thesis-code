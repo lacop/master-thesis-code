{
 "metadata": {
  "name": "",
  "signature": "sha256:f810fb38c4276e69d8d156deab4b1e00429e11524ebb1807af86fd998c51496f"
 },
 "nbformat": 3,
 "nbformat_minor": 0,
 "worksheets": [
  {
   "cells": [
    {
     "cell_type": "code",
     "collapsed": false,
     "input": [
      "import numpy as np\n",
      "def loadfile(path):\n",
      "    data = np.genfromtxt(path, delimiter=',', dtype=[('rounds', 'i8'), ('time', '<f8')], names=['rounds', 'time'])\n",
      "    if data[0][0] == -1: # Remove header if present\n",
      "        return data[1:]\n",
      "    return data\n",
      "def loadfile_ex(path):\n",
      "    data = np.genfromtxt(path, delimiter=',',\n",
      "                         dtype=[('msglen', '<i8'), ('rounds', 'i8'), ('outrefcnt', '<i8'), ('solver', 'S28'), ('bo', 'S11'), ('seed', '<i8'), ('confl', '<i8'), ('time', '<f8')],\n",
      "                         names=['msglen', 'rounds', 'outrefcnt', 'solver',\n",
      "                                'bo', 'seed', 'confl', 'time'])\n",
      "    runs = {}\n",
      "    for bo in np.unique(data['bo']):\n",
      "        runs[bo.decode()] = data[data['bo'] == bo]\n",
      "    return runs"
     ],
     "language": "python",
     "metadata": {},
     "outputs": [],
     "prompt_number": 10
    },
    {
     "cell_type": "code",
     "collapsed": false,
     "input": [
      "#runs = {'s1none': loadfile('../r-tests/sha1-32bit-out8bitREF.csv'),\n",
      "#        's1espr': loadfile('../r-tests/sha1-32bit-out8bitREF-espresso.csv'),\n",
      "#        }\n",
      "\n",
      "#runs = {'s3nono': loadfile('../r-tests/sha3-32bit-out8bitREF-noxor-noopt.csv'),\n",
      "#        's3esno': loadfile('../r-tests/sha3-32bit-out8bitREF-noxor-espresso.csv'),\n",
      "#        's3noxor': loadfile('../r-tests/sha3-32bit-out8bitREF-xor-noopt.csv'),\n",
      "#        's3esxor': loadfile('../r-tests/sha3-32bit-out8bitREF-xor-espresso.csv'),\n",
      "#        }\n",
      "\n",
      "runs = loadfile_ex('../experiments/ex1-sha3-minisat-bos.csv')\n",
      "\n",
      "#runs = {'t1': loadfile('../r-tests/test1.csv'),\n",
      "#        't2': loadfile('../r-tests/test2.csv')}"
     ],
     "language": "python",
     "metadata": {},
     "outputs": [],
     "prompt_number": 11
    },
    {
     "cell_type": "code",
     "collapsed": false,
     "input": [
      "runs"
     ],
     "language": "python",
     "metadata": {},
     "outputs": [
      {
       "metadata": {},
       "output_type": "pyout",
       "prompt_number": 12,
       "text": [
        "{'r0-S-y-x': array([(32, 1, 8, b'[timeout 60 ./minisatrun.sh]', b'r0-S-y-x', 0, 0, 0.012),\n",
        "        (32, 1, 8, b'[timeout 60 ./minisatrun.sh]', b'r0-S-y-x', 1, 0, 0.012),\n",
        "        (32, 1, 8, b'[timeout 60 ./minisatrun.sh]', b'r0-S-y-x', 2, 0, 0.012),\n",
        "        ...,\n",
        "        (32, 11, 8, b'[timeout 60 ./minisatrun.sh]', b'r0-S-y-x', 7, 337, 5.148),\n",
        "        (32, 11, 8, b'[timeout 60 ./minisatrun.sh]', b'r0-S-y-x', 8, 321, 4.892),\n",
        "        (32, 11, 8, b'[timeout 60 ./minisatrun.sh]', b'r0-S-y-x', 9, 158, 2.956)], \n",
        "       dtype=[('msglen', '<i8'), ('rounds', '<i8'), ('outrefcnt', '<i8'), ('solver', 'S28'), ('bo', 'S11'), ('seed', '<i8'), ('confl', '<i8'), ('time', '<f8')]),\n",
        " 'rlast-S-x-y': array([(32, 1, 8, b'[timeout 60 ./minisatrun.sh]', b'rlast-S-x-y', 0, 0, 0.016),\n",
        "        (32, 1, 8, b'[timeout 60 ./minisatrun.sh]', b'rlast-S-x-y', 1, 0, 0.012),\n",
        "        (32, 1, 8, b'[timeout 60 ./minisatrun.sh]', b'rlast-S-x-y', 2, 0, 0.016),\n",
        "        ...,\n",
        "        (32, 11, 8, b'[timeout 60 ./minisatrun.sh]', b'rlast-S-x-y', 7, 108, 0.792),\n",
        "        (32, 11, 8, b'[timeout 60 ./minisatrun.sh]', b'rlast-S-x-y', 8, 319, 1.748),\n",
        "        (32, 11, 8, b'[timeout 60 ./minisatrun.sh]', b'rlast-S-x-y', 9, 435, 2.356)], \n",
        "       dtype=[('msglen', '<i8'), ('rounds', '<i8'), ('outrefcnt', '<i8'), ('solver', 'S28'), ('bo', 'S11'), ('seed', '<i8'), ('confl', '<i8'), ('time', '<f8')]),\n",
        " 'r0-S-x-y': array([(32, 1, 8, b'[timeout 60 ./minisatrun.sh]', b'r0-S-x-y', 0, 0, 0.012),\n",
        "        (32, 1, 8, b'[timeout 60 ./minisatrun.sh]', b'r0-S-x-y', 1, 0, 0.012),\n",
        "        (32, 1, 8, b'[timeout 60 ./minisatrun.sh]', b'r0-S-x-y', 2, 0, 0.016),\n",
        "        ...,\n",
        "        (32, 12, 8, b'[timeout 60 ./minisatrun.sh]', b'r0-S-x-y', 7, 78, 1.952),\n",
        "        (32, 12, 8, b'[timeout 60 ./minisatrun.sh]', b'r0-S-x-y', 8, 144, 3.072),\n",
        "        (32, 12, 8, b'[timeout 60 ./minisatrun.sh]', b'r0-S-x-y', 9, 286, 5.0)], \n",
        "       dtype=[('msglen', '<i8'), ('rounds', '<i8'), ('outrefcnt', '<i8'), ('solver', 'S28'), ('bo', 'S11'), ('seed', '<i8'), ('confl', '<i8'), ('time', '<f8')]),\n",
        " 'rlast-S-y-x': array([(32, 1, 8, b'[timeout 60 ./minisatrun.sh]', b'rlast-S-y-x', 0, 0, 0.016),\n",
        "        (32, 1, 8, b'[timeout 60 ./minisatrun.sh]', b'rlast-S-y-x', 1, 0, 0.012),\n",
        "        (32, 1, 8, b'[timeout 60 ./minisatrun.sh]', b'rlast-S-y-x', 2, 0, 0.012),\n",
        "        ...,\n",
        "        (32, 11, 8, b'[timeout 60 ./minisatrun.sh]', b'rlast-S-y-x', 7, 108, 0.792),\n",
        "        (32, 11, 8, b'[timeout 60 ./minisatrun.sh]', b'rlast-S-y-x', 8, 319, 1.776),\n",
        "        (32, 11, 8, b'[timeout 60 ./minisatrun.sh]', b'rlast-S-y-x', 9, 435, 2.468)], \n",
        "       dtype=[('msglen', '<i8'), ('rounds', '<i8'), ('outrefcnt', '<i8'), ('solver', 'S28'), ('bo', 'S11'), ('seed', '<i8'), ('confl', '<i8'), ('time', '<f8')]),\n",
        " 'none': array([(32, 1, 8, b'[timeout 60 ./minisatrun.sh]', b'none', 0, 0, 0.012),\n",
        "        (32, 1, 8, b'[timeout 60 ./minisatrun.sh]', b'none', 1, 0, 0.012),\n",
        "        (32, 1, 8, b'[timeout 60 ./minisatrun.sh]', b'none', 2, 0, 0.016),\n",
        "        ...,\n",
        "        (32, 11, 8, b'[timeout 60 ./minisatrun.sh]', b'none', 7, 108, 0.764),\n",
        "        (32, 11, 8, b'[timeout 60 ./minisatrun.sh]', b'none', 8, 319, 1.768),\n",
        "        (32, 11, 8, b'[timeout 60 ./minisatrun.sh]', b'none', 9, 435, 2.364)], \n",
        "       dtype=[('msglen', '<i8'), ('rounds', '<i8'), ('outrefcnt', '<i8'), ('solver', 'S28'), ('bo', 'S11'), ('seed', '<i8'), ('confl', '<i8'), ('time', '<f8')])}"
       ]
      }
     ],
     "prompt_number": 12
    },
    {
     "cell_type": "code",
     "collapsed": false,
     "input": [
      "def merge_runs(runs, key='time'):\n",
      "    rounds = []\n",
      "    for _, run in runs.items():\n",
      "        rounds = np.unique(np.concatenate((rounds, run['rounds'])))\n",
      "    #print(rounds)\n",
      "    merged = []\n",
      "    for r in rounds:\n",
      "        mincnt = None\n",
      "        for lbl, run in runs.items():\n",
      "            l = len(run[run['rounds'] == r][key])\n",
      "            if not mincnt or mincnt > l:\n",
      "                mincnt = l\n",
      "        #print(r, mincnt)\n",
      "        for lbl, run in runs.items():\n",
      "            for t in run[run['rounds'] == r][key][:mincnt]:\n",
      "                merged.append((lbl, r, t))\n",
      "    return merged"
     ],
     "language": "python",
     "metadata": {},
     "outputs": [],
     "prompt_number": 19
    },
    {
     "cell_type": "code",
     "collapsed": false,
     "input": [
      "merged = merge_runs(runs)\n",
      "#merged = merge_runs(runs, key='confl')"
     ],
     "language": "python",
     "metadata": {},
     "outputs": [],
     "prompt_number": 23
    },
    {
     "cell_type": "code",
     "collapsed": false,
     "input": [
      "with open('../r-tests/gh-merged.csv', 'w') as f:\n",
      "    f.write('label, rounds, time\\n')\n",
      "    for m in merged:\n",
      "        f.write('{},{},{}\\n'.format(*m))"
     ],
     "language": "python",
     "metadata": {},
     "outputs": [],
     "prompt_number": 24
    },
    {
     "cell_type": "code",
     "collapsed": false,
     "input": [],
     "language": "python",
     "metadata": {},
     "outputs": []
    }
   ],
   "metadata": {}
  }
 ]
}