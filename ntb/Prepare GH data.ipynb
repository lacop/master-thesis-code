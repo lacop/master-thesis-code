{
 "metadata": {
  "name": "",
  "signature": "sha256:94b3abb817fdf3213ac90276f655887237a6dd5fafa794db4a5fe6429947bd82"
 },
 "nbformat": 3,
 "nbformat_minor": 0,
 "worksheets": [
  {
   "cells": [
    {
     "cell_type": "code",
     "collapsed": false,
     "input": [
      "import numpy as np\n",
      "def loadfile(path):\n",
      "    data = np.genfromtxt(path, delimiter=',', dtype=[('rounds', 'i8'), ('time', '<f8')], names=['rounds', 'time'])\n",
      "    if data[0][0] == -1: # Remove header if present\n",
      "        return data[1:]\n",
      "    return data"
     ],
     "language": "python",
     "metadata": {},
     "outputs": [],
     "prompt_number": 75
    },
    {
     "cell_type": "code",
     "collapsed": false,
     "input": [
      "#runs = {'s1none': loadfile('../r-tests/sha1-32bit-out8bitREF.csv'),\n",
      "#        's1espr': loadfile('../r-tests/sha1-32bit-out8bitREF-espresso.csv'),\n",
      "#        }\n",
      "\n",
      "runs = {'s3nono': loadfile('../r-tests/sha3-32bit-out8bitREF-noxor-noopt.csv'),\n",
      "        's3esno': loadfile('../r-tests/sha3-32bit-out8bitREF-noxor-espresso.csv'),\n",
      "        's3noxor': loadfile('../r-tests/sha3-32bit-out8bitREF-xor-noopt.csv'),\n",
      "        's3esxor': loadfile('../r-tests/sha3-32bit-out8bitREF-xor-espresso.csv'),\n",
      "        }\n",
      "\n",
      "\n",
      "#runs = {'t1': loadfile('../r-tests/test1.csv'),\n",
      "#        't2': loadfile('../r-tests/test2.csv')}"
     ],
     "language": "python",
     "metadata": {},
     "outputs": [],
     "prompt_number": 76
    },
    {
     "cell_type": "code",
     "collapsed": false,
     "input": [
      "def merge_runs(runs):\n",
      "    rounds = []\n",
      "    for _, run in runs.items():\n",
      "        rounds = np.unique(np.concatenate((rounds, run['rounds'])))\n",
      "    #print(rounds)\n",
      "    merged = []\n",
      "    for r in rounds:\n",
      "        mincnt = None\n",
      "        for lbl, run in runs.items():\n",
      "            l = len(run[run['rounds'] == r]['time'])\n",
      "            if not mincnt or mincnt > l:\n",
      "                mincnt = l\n",
      "        #print(r, mincnt)\n",
      "        for lbl, run in runs.items():\n",
      "            for t in run[run['rounds'] == r]['time'][:mincnt]:\n",
      "                merged.append((lbl, r, t))\n",
      "    return merged"
     ],
     "language": "python",
     "metadata": {},
     "outputs": [],
     "prompt_number": 77
    },
    {
     "cell_type": "code",
     "collapsed": false,
     "input": [
      "merged = merge_runs(runs)"
     ],
     "language": "python",
     "metadata": {},
     "outputs": [],
     "prompt_number": 78
    },
    {
     "cell_type": "code",
     "collapsed": false,
     "input": [
      "with open('../r-tests/gh-merged.csv', 'w') as f:\n",
      "    f.write('label, rounds, time\\n')\n",
      "    for m in merged:\n",
      "        f.write('{},{},{}\\n'.format(*m))"
     ],
     "language": "python",
     "metadata": {},
     "outputs": [],
     "prompt_number": 79
    },
    {
     "cell_type": "code",
     "collapsed": false,
     "input": [],
     "language": "python",
     "metadata": {},
     "outputs": [],
     "prompt_number": 49
    }
   ],
   "metadata": {}
  }
 ]
}