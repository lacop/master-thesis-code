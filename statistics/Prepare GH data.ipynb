{
 "metadata": {
  "name": "",
  "signature": "sha256:dbbc1fb949c6ed17c729ec0b1a280d939f72f49a4193aa44f04e7c89e17f6358"
 },
 "nbformat": 3,
 "nbformat_minor": 0,
 "worksheets": [
  {
   "cells": [
    {
     "cell_type": "code",
     "collapsed": false,
     "input": [
      "import numpy as np\n",
      "def loadfile(path):\n",
      "    data = np.genfromtxt(path, delimiter=',', dtype=[('rounds', 'i8'), ('time', '<f8')], names=['rounds', 'time'])\n",
      "    if data[0][0] == -1: # Remove header if present\n",
      "        return data[1:]\n",
      "    return data\n",
      "def loadfile_ex(path):\n",
      "    data = np.genfromtxt(path, delimiter=',',\n",
      "                         dtype=[('msglen', '<i8'), ('rounds', 'i8'), ('outrefcnt', '<i8'), ('solver', 'S28'), ('bo', 'S11'), ('seed', '<i8'), ('confl', '<i8'), ('time', '<f8')],\n",
      "                         names=['msglen', 'rounds', 'outrefcnt', 'solver',\n",
      "                                'bo', 'seed', 'confl', 'time'])\n",
      "    runs = {}\n",
      "    for bo in np.unique(data['bo']):\n",
      "        runs[bo.decode()] = data[data['bo'] == bo]\n",
      "    return runs"
     ],
     "language": "python",
     "metadata": {},
     "outputs": [],
     "prompt_number": 10
    },
    {
     "cell_type": "code",
     "collapsed": false,
     "input": [
      "#runs = {'s1none': loadfile('../r-tests/sha1-32bit-out8bitREF.csv'),\n",
      "#        's1espr': loadfile('../r-tests/sha1-32bit-out8bitREF-espresso.csv'),\n",
      "#        }\n",
      "\n",
      "runs = {'s3nono': loadfile('../r-tests/sha3-32bit-out8bitREF-noxor-noopt.csv'),\n",
      "        's3esno': loadfile('../r-tests/sha3-32bit-out8bitREF-noxor-espresso.csv'),\n",
      "        's3noxor': loadfile('../r-tests/sha3-32bit-out8bitREF-xor-noopt.csv'),\n",
      "        's3esxor': loadfile('../r-tests/sha3-32bit-out8bitREF-xor-espresso.csv'),\n",
      "        }\n",
      "\n",
      "#runs = loadfile_ex('../experiments/ex1-sha3-minisat-bos.csv')\n",
      "\n",
      "#runs = {'t1': loadfile('../r-tests/test1.csv'),\n",
      "#        't2': loadfile('../r-tests/test2.csv')}"
     ],
     "language": "python",
     "metadata": {},
     "outputs": [],
     "prompt_number": 29
    },
    {
     "cell_type": "code",
     "collapsed": false,
     "input": [
      "runs"
     ],
     "language": "python",
     "metadata": {},
     "outputs": [
      {
       "metadata": {},
       "output_type": "pyout",
       "prompt_number": 30,
       "text": [
        "{'s3noxor': array([(24, 2.14), (0, 0.0), (1, 0.016), ..., (2, 0.044), (3, 0.244),\n",
        "        (4, 0.568)], \n",
        "       dtype=[('rounds', '<i8'), ('time', '<f8')]),\n",
        " 's3nono': array([(24, 6.372), (0, 0.0), (1, 0.012), ..., (3, 0.136), (4, 0.252),\n",
        "        (5, 0.88)], \n",
        "       dtype=[('rounds', '<i8'), ('time', '<f8')]),\n",
        " 's3esxor': array([(24, 22.048), (0, 0.0), (1, 0.008), ..., (2, 0.044), (3, 0.136),\n",
        "        (4, 0.224)], \n",
        "       dtype=[('rounds', '<i8'), ('time', '<f8')]),\n",
        " 's3esno': array([(24, 21.488), (0, 0.0), (1, 0.012), ..., (2, 0.048), (3, 0.136),\n",
        "        (4, 0.256)], \n",
        "       dtype=[('rounds', '<i8'), ('time', '<f8')])}"
       ]
      }
     ],
     "prompt_number": 30
    },
    {
     "cell_type": "code",
     "collapsed": false,
     "input": [
      "def merge_runs(runs, key='time', order = None):\n",
      "    rounds = []\n",
      "    if order is None:\n",
      "        for lbl, _ in run.items():\n",
      "            order.append(lbl)\n",
      "    for lbl in order:\n",
      "        run = runs[lbl]\n",
      "        rounds = np.unique(np.concatenate((rounds, run['rounds'])))\n",
      "    #print(rounds)\n",
      "    merged = []\n",
      "    for r in rounds:\n",
      "        mincnt = None\n",
      "        for lbl in order:\n",
      "            run = runs[lbl]\n",
      "            l = len(run[run['rounds'] == r][key])\n",
      "            if not mincnt or mincnt > l:\n",
      "                mincnt = l\n",
      "        #print(r, mincnt)\n",
      "        for lbl in order:\n",
      "            run = runs[lbl]\n",
      "            for t in run[run['rounds'] == r][key][:mincnt]:\n",
      "                merged.append((lbl, r, t))\n",
      "    return merged"
     ],
     "language": "python",
     "metadata": {},
     "outputs": [],
     "prompt_number": 43
    },
    {
     "cell_type": "code",
     "collapsed": false,
     "input": [
      "#merged = merge_runs(runs)\n",
      "merged = merge_runs(runs, order=['s3nono', 's3noxor', 's3esno', 's3esxor'])\n",
      "#merged = merge_runs(runs, key='confl')"
     ],
     "language": "python",
     "metadata": {},
     "outputs": [],
     "prompt_number": 44
    },
    {
     "cell_type": "code",
     "collapsed": false,
     "input": [
      "with open('../r-tests/gh-merged.csv', 'w') as f:\n",
      "    f.write('label, rounds, time\\n')\n",
      "    for m in merged:\n",
      "        f.write('{},{},{}\\n'.format(*m))"
     ],
     "language": "python",
     "metadata": {},
     "outputs": [],
     "prompt_number": 45
    },
    {
     "cell_type": "code",
     "collapsed": false,
     "input": [],
     "language": "python",
     "metadata": {},
     "outputs": []
    }
   ],
   "metadata": {}
  }
 ]
}